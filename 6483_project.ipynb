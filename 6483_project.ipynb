{
 "cells": [
  {
   "cell_type": "code",
   "id": "f0f265c3",
   "metadata": {
    "ExecuteTime": {
     "end_time": "2025-04-18T12:55:01.904897Z",
     "start_time": "2025-04-18T12:55:01.901534Z"
    }
   },
   "source": [
    "# !pip install pandas\n",
    "\n",
    "import torch\n",
    "import torch.nn as nn\n",
    "import torch.optim as optim\n",
    "from torchvision import datasets, transforms, models\n",
    "from torch.utils.data import DataLoader, Subset\n",
    "import numpy as np\n",
    "import pandas as pd\n",
    "import matplotlib.pyplot as plt\n",
    "import os\n",
    "\n",
    "print(\"complete\")"
   ],
   "outputs": [
    {
     "name": "stdout",
     "output_type": "stream",
     "text": [
      "complete\n"
     ]
    }
   ],
   "execution_count": 13
  },
  {
   "cell_type": "code",
   "id": "00b0a75a",
   "metadata": {
    "ExecuteTime": {
     "end_time": "2025-04-18T12:55:01.986759Z",
     "start_time": "2025-04-18T12:55:01.926024Z"
    }
   },
   "source": [
    "data_transforms = {\n",
    "    'train': transforms.Compose([\n",
    "        transforms.RandomResizedCrop(224),\n",
    "        transforms.RandomHorizontalFlip(),\n",
    "        transforms.RandomRotation(20),\n",
    "        transforms.ToTensor(),\n",
    "        transforms.Normalize([0.485, 0.456, 0.406],\n",
    "                             [0.229, 0.224, 0.225])\n",
    "    ]),\n",
    "    'val': transforms.Compose([\n",
    "        transforms.Resize(256),\n",
    "        transforms.CenterCrop(224),\n",
    "        transforms.ToTensor(),\n",
    "        transforms.Normalize([0.485, 0.456, 0.406],\n",
    "                             [0.229, 0.224, 0.225])\n",
    "    ]),\n",
    "}\n",
    "\n",
    "train_path = r\"/home/sfmt/Downloads/6483/datasets/datasets/train\"\n",
    "val_path = r\"/home/sfmt/Downloads/6483/datasets/datasets/val\"\n",
    "\n",
    "full_train_dataset = datasets.ImageFolder(train_path, data_transforms['train'])\n",
    "full_val_dataset = datasets.ImageFolder(val_path, data_transforms['val'])\n",
    "\n",
    "np.random.seed(42)\n",
    "train_indices = np.random.choice(len(full_train_dataset), 2000, replace=False)\n",
    "val_indices = np.random.choice(len(full_val_dataset), 500, replace=False)\n",
    "\n",
    "train_dataset = Subset(full_train_dataset, train_indices)\n",
    "val_dataset = Subset(full_val_dataset, val_indices)\n",
    "\n",
    "train_loader = DataLoader(train_dataset, batch_size=32, shuffle=True)\n",
    "val_loader = DataLoader(val_dataset, batch_size=32, shuffle=False)\n",
    "\n",
    "device = torch.device(\"cuda\" if torch.cuda.is_available() else \"cpu\")\n",
    "\n",
    "print(f\"Training Set: {len(train_dataset)}\")\n",
    "print(f\"Validation Set: {len(val_dataset)}\")\n",
    "print(f\"Device: {device}\")\n",
    "print(\"complete\")"
   ],
   "outputs": [
    {
     "name": "stdout",
     "output_type": "stream",
     "text": [
      "Training Set: 2000\n",
      "Validation Set: 500\n",
      "Device: cuda\n",
      "complete\n"
     ]
    }
   ],
   "execution_count": 14
  },
  {
   "cell_type": "code",
   "id": "8a8f342a",
   "metadata": {
    "ExecuteTime": {
     "end_time": "2025-04-18T12:59:15.456708Z",
     "start_time": "2025-04-18T12:59:15.151138Z"
    }
   },
   "source": [
    "model = models.resnet50(pretrained=True)\n",
    "\n",
    "for param in model.parameters():\n",
    "    param.requires_grad = False\n",
    "\n",
    "# Using Sigmoid to classify\n",
    "model.fc = nn.Sequential(\n",
    "    nn.Linear(model.fc.in_features, 256),\n",
    "    nn.ReLU(),\n",
    "    nn.Dropout(0.3),\n",
    "    nn.Linear(256, 1),\n",
    "    nn.Sigmoid()\n",
    ")\n",
    "\n",
    "model = model.to(device)\n",
    "print(\"complete\")"
   ],
   "outputs": [
    {
     "name": "stderr",
     "output_type": "stream",
     "text": [
      "/home/sfmt/anaconda3/lib/python3.9/site-packages/torchvision/models/_utils.py:208: UserWarning: The parameter 'pretrained' is deprecated since 0.13 and may be removed in the future, please use 'weights' instead.\n",
      "  warnings.warn(\n",
      "/home/sfmt/anaconda3/lib/python3.9/site-packages/torchvision/models/_utils.py:223: UserWarning: Arguments other than a weight enum or `None` for 'weights' are deprecated since 0.13 and may be removed in the future. The current behavior is equivalent to passing `weights=ResNet50_Weights.IMAGENET1K_V1`. You can also use `weights=ResNet50_Weights.DEFAULT` to get the most up-to-date weights.\n",
      "  warnings.warn(msg)\n"
     ]
    },
    {
     "name": "stdout",
     "output_type": "stream",
     "text": [
      "complete\n"
     ]
    }
   ],
   "execution_count": 20
  },
  {
   "cell_type": "code",
   "id": "841360bb",
   "metadata": {
    "ExecuteTime": {
     "end_time": "2025-04-18T12:59:15.465546Z",
     "start_time": "2025-04-18T12:59:15.462165Z"
    }
   },
   "source": [
    "criterion = nn.BCELoss()\n",
    "optimizer = optim.Adam(model.fc.parameters(), lr=0.0001)\n",
    "print(\"complete\")"
   ],
   "outputs": [
    {
     "name": "stdout",
     "output_type": "stream",
     "text": [
      "complete\n"
     ]
    }
   ],
   "execution_count": 21
  },
  {
   "cell_type": "code",
   "id": "6ccaf551",
   "metadata": {
    "ExecuteTime": {
     "end_time": "2025-04-18T13:02:41.285104Z",
     "start_time": "2025-04-18T12:59:15.511703Z"
    }
   },
   "source": [
    "epochs = 30\n",
    "patience = 3\n",
    "best_loss = np.inf\n",
    "counter = 0\n",
    "train_losses, val_losses = [], []\n",
    "\n",
    "for epoch in range(epochs):\n",
    "    model.train()\n",
    "    running_loss = 0.0\n",
    "    for inputs, labels in train_loader:\n",
    "        inputs, labels = inputs.to(device), labels.float().to(device).unsqueeze(1)\n",
    "\n",
    "        optimizer.zero_grad()\n",
    "        outputs = model(inputs)\n",
    "        loss = criterion(outputs, labels)\n",
    "        loss.backward()\n",
    "        optimizer.step()\n",
    "\n",
    "        running_loss += loss.item() * inputs.size(0)\n",
    "    epoch_loss = running_loss / len(train_loader.dataset)\n",
    "    train_losses.append(epoch_loss)\n",
    "\n",
    "    model.eval()\n",
    "    val_loss = 0.0\n",
    "    with torch.no_grad():\n",
    "        for inputs, labels in val_loader:\n",
    "            inputs, labels = inputs.to(device), labels.float().to(device).unsqueeze(1)\n",
    "            outputs = model(inputs)\n",
    "            loss = criterion(outputs, labels)\n",
    "            val_loss += loss.item() * inputs.size(0)\n",
    "\n",
    "    epoch_val_loss = val_loss / len(val_loader.dataset)\n",
    "    val_losses.append(epoch_val_loss)\n",
    "\n",
    "    print(f'Epoch {epoch+1}/{epochs}.. Train Loss: {epoch_loss:.4f}.. Val Loss: {epoch_val_loss:.4f}')\n",
    "\n",
    "    # EarlyStopping\n",
    "    if epoch_val_loss < best_loss:\n",
    "        best_loss = epoch_val_loss\n",
    "        torch.save(model.state_dict(), 'best_model.pth')\n",
    "        counter = 0\n",
    "    else:\n",
    "        counter += 1\n",
    "        if counter >= patience:\n",
    "            print(\"Early stopping!\")\n",
    "            break\n",
    "\n",
    "plt.plot(train_losses, label='Train Loss')\n",
    "plt.plot(val_losses, label='Validation Loss')\n",
    "plt.xlabel('Epochs')\n",
    "plt.ylabel('Loss')\n",
    "plt.title('Loss Curve')\n",
    "plt.legend()\n",
    "plt.show()\n",
    "print(\"complete\")"
   ],
   "outputs": [
    {
     "name": "stdout",
     "output_type": "stream",
     "text": [
      "Epoch 1/30.. Train Loss: 0.4624.. Val Loss: 0.2385\n",
      "Epoch 2/30.. Train Loss: 0.2870.. Val Loss: 0.1233\n",
      "Epoch 3/30.. Train Loss: 0.2546.. Val Loss: 0.1270\n",
      "Epoch 4/30.. Train Loss: 0.2190.. Val Loss: 0.0850\n",
      "Epoch 5/30.. Train Loss: 0.2127.. Val Loss: 0.0879\n",
      "Epoch 6/30.. Train Loss: 0.2096.. Val Loss: 0.0725\n",
      "Epoch 7/30.. Train Loss: 0.1992.. Val Loss: 0.0763\n",
      "Epoch 8/30.. Train Loss: 0.1803.. Val Loss: 0.0654\n",
      "Epoch 9/30.. Train Loss: 0.1963.. Val Loss: 0.0642\n",
      "Epoch 10/30.. Train Loss: 0.1781.. Val Loss: 0.0599\n",
      "Epoch 11/30.. Train Loss: 0.1865.. Val Loss: 0.0739\n",
      "Epoch 12/30.. Train Loss: 0.1758.. Val Loss: 0.0636\n",
      "Epoch 13/30.. Train Loss: 0.1885.. Val Loss: 0.0576\n",
      "Epoch 14/30.. Train Loss: 0.1940.. Val Loss: 0.0645\n",
      "Epoch 15/30.. Train Loss: 0.1627.. Val Loss: 0.0594\n",
      "Epoch 16/30.. Train Loss: 0.1784.. Val Loss: 0.0629\n",
      "Early stopping!\n"
     ]
    },
    {
     "data": {
      "text/plain": [
       "<Figure size 432x288 with 1 Axes>"
      ],
      "image/png": "[encoded data removed]"
     },
     "metadata": {
      "needs_background": "light"
     },
     "output_type": "display_data"
    },
    {
     "name": "stdout",
     "output_type": "stream",
     "text": [
      "complete\n"
     ]
    }
   ],
   "execution_count": 22
  },
  {
   "cell_type": "code",
   "id": "1a9e8da1",
   "metadata": {
    "ExecuteTime": {
     "end_time": "2025-04-18T13:02:46.531409Z",
     "start_time": "2025-04-18T13:02:41.374052Z"
    }
   },
   "source": [
    "model.load_state_dict(torch.load('best_model.pth'))\n",
    "model.eval()\n",
    "\n",
    "test_transforms = transforms.Compose([\n",
    "    transforms.Resize(256),\n",
    "    transforms.CenterCrop(224),\n",
    "    transforms.ToTensor(),\n",
    "    transforms.Normalize([0.485, 0.456, 0.406],\n",
    "                         [0.229, 0.224, 0.225])\n",
    "])\n",
    "\n",
    "test_dir = r\"/home/sfmt/Downloads/6483/datasets/datasets/test\"\n",
    "test_images = sorted(os.listdir(test_dir), key=lambda x: int(''.join(filter(str.isdigit, x)) or -1))\n",
    "\n",
    "results = []\n",
    "with torch.no_grad():\n",
    "    for idx, img_name in enumerate(test_images, start=1):\n",
    "        img_path = os.path.join(test_dir, img_name)\n",
    "        img = datasets.folder.default_loader(img_path)\n",
    "        img = test_transforms(img).unsqueeze(0).to(device)\n",
    "\n",
    "        output = model(img)\n",
    "        label = 1 if output.item() > 0.5 else 0\n",
    "        results.append([idx, label])\n",
    "\n",
    "submission = pd.DataFrame(results, columns=['id', 'label'])\n",
    "submission.to_csv('submission.csv', index=False)\n",
    "\n",
    "print(\"submission.csv\")"
   ],
   "outputs": [
    {
     "name": "stdout",
     "output_type": "stream",
     "text": [
      "submission.csv\n"
     ]
    }
   ],
   "execution_count": 23
  }
 ],
 "metadata": {
  "kernelspec": {
   "display_name": "Python 3 (ipykernel)",
   "language": "python",
   "name": "python3"
  },
  "language_info": {
   "codemirror_mode": {
    "name": "ipython",
    "version": 3
   },
   "file_extension": ".py",
   "mimetype": "text/x-python",
   "name": "python",
   "nbconvert_exporter": "python",
   "pygments_lexer": "ipython3",
   "version": "3.7.16"
  }
 },
 "nbformat": 4,
 "nbformat_minor": 5
}
